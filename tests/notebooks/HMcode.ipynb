{
 "cells": [
  {
   "cell_type": "code",
   "execution_count": null,
   "metadata": {},
   "outputs": [],
   "source": [
    "# Standard imports\n",
    "import numpy as np\n",
    "import matplotlib.pyplot as plt\n",
    "\n",
    "# Project imports\n",
    "import pyhalomodel.pyhalomodel as halo\n",
    "import pyhalomodel.camb_stuff as camb_stuff\n",
    "import pyhalomodel.utility as util\n",
    "from pyhalomodel.pyhmcode import hmcode as HMcode"
   ]
  },
  {
   "cell_type": "code",
   "execution_count": null,
   "metadata": {},
   "outputs": [],
   "source": [
    "# Cosmology\n",
    "#Omega_c = 0.2283\n",
    "Omega_c = 0.2435\n",
    "#Omega_c = 0.25\n",
    "Omega_b = 0.05\n",
    "Omega_k = 0.0\n",
    "h = 0.7\n",
    "ns = 0.96\n",
    "sigma_8 = 0.8\n",
    "w0 = -1.\n",
    "wa = 0.\n",
    "#m_nu = 1.00\n",
    "m_nu = 0.30\n",
    "#m_nu = 0.00\n",
    "\n",
    "# Wavenumbers [h/Mpc]\n",
    "kmin, kmax = 1e-3, 1e1\n",
    "nk = 128\n",
    "k = util.logspace(kmin, kmax, nk)\n",
    "\n",
    "# Halo masses [Msun/h]\n",
    "Mmin, Mmax = 1e9, 1e17\n",
    "nM = 256\n",
    "M = util.logspace(Mmin, Mmax, nM)\n",
    "\n",
    "# Redshifts\n",
    "zs = [3., 2., 1., 0.5, 0.]\n",
    "zs = np.array(zs)"
   ]
  },
  {
   "cell_type": "code",
   "execution_count": null,
   "metadata": {},
   "outputs": [],
   "source": [
    "# Get stuff from CAMB\n",
    "Pk_lin_interp, results, Omega_m, _, _ = camb_stuff.run(zs, Omega_c, Omega_b, Omega_k, h, ns, sigma_8, m_nu, w0, wa)\n",
    "Pk_nonlin_interp = results.get_matter_power_interpolator(nonlinear=True).P\n",
    "\n",
    "# Arrays for CAMB non-linear spectrum\n",
    "Pk_CAMB = np.zeros((len(zs), len(k)))\n",
    "for iz, z in enumerate(zs):\n",
    "    Pk_CAMB[iz, :] = Pk_nonlin_interp(z, k)"
   ]
  },
  {
   "cell_type": "code",
   "execution_count": null,
   "metadata": {},
   "outputs": [],
   "source": [
    "# Get the new pyHMcode spectrum\n",
    "Pk_HMcode = HMcode(k, zs, results, verbose=True)"
   ]
  },
  {
   "cell_type": "code",
   "execution_count": null,
   "metadata": {},
   "outputs": [],
   "source": [
    "# Halo model spectrum\n",
    "Pk_hm = []\n",
    "for iz, z in enumerate(zs):\n",
    "\n",
    "    # Initialize\n",
    "    hmod = halo.model(z, Omega_m, name='Tinker et al. (2010)', Dv=200., dc=1.686)\n",
    "\n",
    "    # Halo profiles\n",
    "    R = hmod.Lagrangian_radius(M)\n",
    "    rv = hmod.virial_radius(M)\n",
    "    c = halo.concentration(M, z)\n",
    "    matter_profile = halo.matter_profile(k, M, rv, c, Omega_m)\n",
    "\n",
    "    # Power spectra\n",
    "    Pk_lin = Pk_lin_interp(z, k)\n",
    "    sigmaM = results.get_sigmaR(R, z_indices=[iz])[0]\n",
    "    _, _, Pk = hmod.power_spectrum(k, Pk_lin, M, sigmaM, {'m': matter_profile})\n",
    "    Pk_hm.append(Pk['m-m'])"
   ]
  },
  {
   "cell_type": "code",
   "execution_count": null,
   "metadata": {},
   "outputs": [],
   "source": [
    "# Initialize\n",
    "plt.subplots(2, 1)\n",
    "dr = 15.\n",
    "#dr = 1.5\n",
    "#dr = 0.15\n",
    "\n",
    "# Power\n",
    "plt.subplot(2, 1, 1)\n",
    "plt.plot(np.nan, color='black', label='HMcode: Python')\n",
    "plt.plot(np.nan, color='black', alpha=0.5, label='HMcode: CAMB')\n",
    "plt.plot(np.nan, color='black', ls=':', label='Halo model')\n",
    "for iz, z in enumerate(zs):\n",
    "    plt.loglog(k, Pk_HMcode[iz, :], color='C%d'%iz, label='z = %1.1f'%z)\n",
    "    plt.loglog(k, Pk_hm[iz], ls=':', color='C%d'%iz)\n",
    "    plt.loglog(k, Pk_CAMB[iz, :], alpha=0.5, color='C%d'%iz)\n",
    "plt.xticks([])\n",
    "plt.ylabel('P(k)')\n",
    "plt.legend(ncol=2)\n",
    "\n",
    "# Ratio\n",
    "plt.subplot(2, 1, 2)\n",
    "plt.axhspan(-1., 1., color='black', alpha=0.2)\n",
    "plt.axhspan(-0.1, 0.1, color='black', alpha=0.2)\n",
    "plt.axhline(0., color='black')\n",
    "for iz, _ in enumerate(zs):\n",
    "    plt.semilogx(k, 100.*(-1.+Pk_hm[iz]/Pk_CAMB[iz, :]), ls=':', color='C%d'%iz)\n",
    "    plt.semilogx(k, 100.*(-1.+Pk_HMcode[iz, :]/Pk_CAMB[iz, :]), color='C%d'%iz)\n",
    "plt.xlabel('$k/h\\mathrm{Mpc}^{-1}$')\n",
    "plt.ylabel('$P(k)/P_\\mathrm{CAMB}(k)-1$ [%]')\n",
    "plt.ylim((-dr, dr))\n",
    "\n",
    "# Finalize\n",
    "plt.tight_layout()\n",
    "plt.show()"
   ]
  }
 ],
 "metadata": {
  "kernelspec": {
   "display_name": "pyhalomodel-9x4PpIM0-py3.10",
   "language": "python",
   "name": "python3"
  },
  "language_info": {
   "codemirror_mode": {
    "name": "ipython",
    "version": 3
   },
   "file_extension": ".py",
   "mimetype": "text/x-python",
   "name": "python",
   "nbconvert_exporter": "python",
   "pygments_lexer": "ipython3",
   "version": "3.10.9"
  },
  "orig_nbformat": 4,
  "vscode": {
   "interpreter": {
    "hash": "2ba9d06372f471ba0c67d5ca201ae409f948f5898d6a308c2de7ac25e888f9d0"
   }
  }
 },
 "nbformat": 4,
 "nbformat_minor": 2
}
