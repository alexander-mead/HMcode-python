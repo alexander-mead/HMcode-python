{
 "cells": [
  {
   "cell_type": "code",
   "execution_count": null,
   "metadata": {},
   "outputs": [],
   "source": [
    "# Standard imports\n",
    "import numpy as np\n",
    "import matplotlib.pyplot as plt"
   ]
  },
  {
   "cell_type": "code",
   "execution_count": null,
   "metadata": {},
   "outputs": [],
   "source": [
    "# Parameters\n",
    "benchmark_dir = './../benchmarks/'\n",
    "results_dir = './../results/'\n",
    "models = ['PS74', 'ST99', 'SMT01', 'Tinker2010', 'Despali2016']\n",
    "zs = [0.0, 0.5, 1.0, 2.0, 3.0]"
   ]
  },
  {
   "cell_type": "code",
   "execution_count": null,
   "metadata": {},
   "outputs": [],
   "source": [
    "for model in models:\n",
    "\n",
    "    for spectrum in ['mm', 'mg', 'gg']:\n",
    "\n",
    "        # Data set\n",
    "        print('Model:', model)\n",
    "        print('Spectrum:', spectrum)\n",
    "\n",
    "        # Initialise\n",
    "        plt.subplots(2, 1)\n",
    "\n",
    "        for iz, z in enumerate(zs):\n",
    "\n",
    "            # Load data\n",
    "            file = 'power_'+spectrum+'_'+model+'_z%1.1f.dat'%(z)\n",
    "            benchmark_file = benchmark_dir+file\n",
    "            results_file = results_dir+file\n",
    "            data_bench = np.loadtxt(benchmark_file)\n",
    "            data_test = np.loadtxt(results_file)\n",
    "\n",
    "            # P(k)\n",
    "            plt.subplot(2, 1, 1)\n",
    "            plt.loglog(data_bench[:, 0], data_bench[:, 1], color='C%d'%iz, alpha=0.5, label='Benchmark' if iz==0 else None)\n",
    "            plt.loglog(data_test[:, 0], data_test[:, 1], color='C%d'%iz, ls=':', label='Test' if iz==0 else None)\n",
    "            plt.xticks([])\n",
    "            plt.ylabel('$P(k)$ $[(\\mathrm{Mpc}/h)^3]$')\n",
    "            plt.legend()\n",
    "\n",
    "            # Ratio\n",
    "            plt.subplot(2, 1, 2)\n",
    "            plt.semilogx(data_bench[:, 0], data_bench[:, 1]/data_bench[:, 1], color='C%d'%iz)\n",
    "            plt.semilogx(data_test[:, 0], data_test[:, 1]/data_bench[:, 1], color='C%d'%iz)\n",
    "            plt.xlabel('$k$ $[h\\mathrm{Mpc}]$')\n",
    "            plt.ylabel('$P(k)/P(k)$')\n",
    "            plt.ylim((0.99, 1.01))\n",
    "\n",
    "        # Finalise\n",
    "        plt.show()"
   ]
  }
 ],
 "metadata": {
  "kernelspec": {
   "display_name": "pyhalomodel-9x4PpIM0-py3.10",
   "language": "python",
   "name": "python3"
  },
  "language_info": {
   "codemirror_mode": {
    "name": "ipython",
    "version": 3
   },
   "file_extension": ".py",
   "mimetype": "text/x-python",
   "name": "python",
   "nbconvert_exporter": "python",
   "pygments_lexer": "ipython3",
   "version": "3.10.9"
  },
  "orig_nbformat": 4,
  "vscode": {
   "interpreter": {
    "hash": "2ba9d06372f471ba0c67d5ca201ae409f948f5898d6a308c2de7ac25e888f9d0"
   }
  }
 },
 "nbformat": 4,
 "nbformat_minor": 2
}
