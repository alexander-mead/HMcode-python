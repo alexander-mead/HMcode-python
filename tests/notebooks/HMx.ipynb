{
 "cells": [
  {
   "cell_type": "code",
   "execution_count": null,
   "metadata": {},
   "outputs": [],
   "source": [
    "# Standard imports\n",
    "import numpy as np\n",
    "import matplotlib.pyplot as plt"
   ]
  },
  {
   "cell_type": "code",
   "execution_count": null,
   "metadata": {},
   "outputs": [],
   "source": [
    "# Parameters\n",
    "halomodel_numbers = [27, 3, 146, 23, 87]"
   ]
  },
  {
   "cell_type": "code",
   "execution_count": null,
   "metadata": {},
   "outputs": [],
   "source": [
    "for halomodel_number in halomodel_numbers:\n",
    "\n",
    "    # Print\n",
    "    print('Halo model number:', halomodel_number)\n",
    "\n",
    "    # Load data\n",
    "    file = 'HMx_26_'+str(halomodel_number)+'.dat'\n",
    "    benchmark_file = '../benchmarks/'+file\n",
    "    results_file = '../results/'+file\n",
    "    benchmark = np.loadtxt(benchmark_file)\n",
    "    results = np.loadtxt(results_file)\n",
    "\n",
    "    # Initialise\n",
    "    plt.subplots(2, 1)\n",
    "\n",
    "    # Plot power\n",
    "    plt.subplot(2, 1, 1)\n",
    "    for i in [1, 2, 3, 4, 5]:\n",
    "        ks = benchmark[:, 0]\n",
    "        fac = 4.*np.pi*(ks/(2.*np.pi))**3\n",
    "        plt.loglog(ks, benchmark[:, i]/fac, color='C%d'%i, ls='-', alpha=0.2)\n",
    "        plt.loglog(results[:, 0], results[:, i], color='C%d'%i, ls=':')\n",
    "    plt.xticks([])\n",
    "\n",
    "    # Plot ratio\n",
    "    plt.subplot(2, 1, 2)\n",
    "    for i in [1, 2, 3, 4, 5]:\n",
    "        ks = benchmark[:, 0]\n",
    "        fac = 4.*np.pi*(ks/(2.*np.pi))**3\n",
    "        plt.semilogx(results[:, 0], results[:, i]/(benchmark[:, i]/fac), color='C%d'%i)\n",
    "\n",
    "    # Finalise\n",
    "    plt.show()"
   ]
  }
 ],
 "metadata": {
  "kernelspec": {
   "display_name": "pyhalomodel-9x4PpIM0-py3.10",
   "language": "python",
   "name": "python3"
  },
  "language_info": {
   "codemirror_mode": {
    "name": "ipython",
    "version": 3
   },
   "file_extension": ".py",
   "mimetype": "text/x-python",
   "name": "python",
   "nbconvert_exporter": "python",
   "pygments_lexer": "ipython3",
   "version": "3.10.9"
  },
  "orig_nbformat": 4,
  "vscode": {
   "interpreter": {
    "hash": "2ba9d06372f471ba0c67d5ca201ae409f948f5898d6a308c2de7ac25e888f9d0"
   }
  }
 },
 "nbformat": 4,
 "nbformat_minor": 2
}
