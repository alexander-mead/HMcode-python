{
 "cells": [
  {
   "attachments": {},
   "cell_type": "markdown",
   "metadata": {},
   "source": [
    "## HMcode demo\n",
    "\n",
    "Here we compare the HMcode power spectrum from pyHMcode to that from CAMB and to the halo-model.\n",
    "\n",
    "First, import the necessary libraries"
   ]
  },
  {
   "cell_type": "code",
   "execution_count": null,
   "metadata": {},
   "outputs": [],
   "source": [
    "# Standard imports\n",
    "import numpy as np\n",
    "import matplotlib.pyplot as plt\n",
    "\n",
    "# Third-party imports\n",
    "import camb\n",
    "\n",
    "# Project imports\n",
    "import pyhalomodel as halo"
   ]
  },
  {
   "attachments": {},
   "cell_type": "markdown",
   "metadata": {},
   "source": [
    "Set some parameters"
   ]
  },
  {
   "cell_type": "code",
   "execution_count": null,
   "metadata": {},
   "outputs": [],
   "source": [
    "# Cosmology\n",
    "Omega_c = 0.25\n",
    "Omega_b = 0.05\n",
    "Omega_k = 0.0\n",
    "h = 0.7\n",
    "ns = 0.96\n",
    "sigma_8  = 0.8\n",
    "w0 = -1.\n",
    "wa = 0.\n",
    "m_nu = 0.06\n",
    "norm_sigma8 = True\n",
    "As = 2e-9\n",
    "kmax_CAMB = 200.\n",
    "\n",
    "# Wavenumbers [h/Mpc]\n",
    "kmin, kmax = 1e-3, 1e1\n",
    "nk = 128\n",
    "k = np.logspace(np.log10(kmin), np.log10(kmax), nk)\n",
    "\n",
    "# Redshifts\n",
    "zs = [3., 2., 1., 0.5, 0.]\n",
    "zs = np.array(zs)\n",
    "\n",
    "# Halo masses [Msun/h] (for halo model only)\n",
    "Mmin, Mmax = 1e0, 1e18\n",
    "nM = 256\n",
    "M = np.logspace(np.log10(Mmin), np.log10(Mmax), nM)"
   ]
  },
  {
   "attachments": {},
   "cell_type": "markdown",
   "metadata": {},
   "source": [
    "Run CAMB to get the linear spectrum and $\\sigma(R)$"
   ]
  },
  {
   "cell_type": "code",
   "execution_count": null,
   "metadata": {},
   "outputs": [],
   "source": [
    "# Sets cosmological parameters in camb to calculate the linear power spectrum\n",
    "pars = camb.CAMBparams()\n",
    "wb, wc = Omega_b*h**2, Omega_c*h**2\n",
    "\n",
    "# This function sets standard and helium set using BBN consistency\n",
    "pars.set_cosmology(ombh2=wb, omch2=wc, H0=100.*h, mnu=m_nu, omk=Omega_k)\n",
    "pars.set_dark_energy(w=w0, wa=wa, dark_energy_model='ppf')\n",
    "pars.InitPower.set_params(As=As, ns=ns, r=0.)\n",
    "pars.set_matter_power(redshifts=zs, kmax=kmax_CAMB) # Setup the linear matter power spectrum\n",
    "Omega_m = pars.omegam # Extract the matter density\n",
    "\n",
    "# Scale 'As' to be correct for the desired 'sigma_8' value if necessary\n",
    "if norm_sigma8:\n",
    "    results = camb.get_results(pars)\n",
    "    sigma_8_init = results.get_sigma8_0()\n",
    "    print('Running CAMB')\n",
    "    print('Initial sigma_8:', sigma_8_init)\n",
    "    print('Desired sigma_8:', sigma_8)\n",
    "    scaling = (sigma_8/sigma_8_init)**2\n",
    "    As *= scaling\n",
    "    pars.InitPower.set_params(As=As, ns=ns, r=0.)\n",
    "\n",
    "# Run\n",
    "results = camb.get_results(pars)\n",
    "Pk_lin_interp = results.get_matter_power_interpolator(nonlinear=False).P\n",
    "Pk_nonlin_interp = results.get_matter_power_interpolator(nonlinear=True).P\n",
    "sigma_8 = results.get_sigma8_0()\n",
    "print('Final sigma_8:', sigma_8)\n",
    "\n",
    "# Arrays for CAMB non-linear spectrum\n",
    "Pk_CAMB = np.zeros((len(zs), len(k)))\n",
    "for iz, z in enumerate(zs):\n",
    "    Pk_CAMB[iz, :] = Pk_nonlin_interp(z, k)"
   ]
  },
  {
   "attachments": {},
   "cell_type": "markdown",
   "metadata": {},
   "source": [
    "Get the HMcode spectrum, note that it takes the results data structure from CAMB as an argument"
   ]
  },
  {
   "cell_type": "code",
   "execution_count": null,
   "metadata": {},
   "outputs": [],
   "source": [
    "# Get the new HMcode spectrum\n",
    "Pk_HMcode = halo.hmcode(k, zs, results, verbose=True)"
   ]
  },
  {
   "attachments": {},
   "cell_type": "markdown",
   "metadata": {},
   "source": [
    "Calculate the halo-model matter-matter power spectrum using pyhalomodel"
   ]
  },
  {
   "cell_type": "code",
   "execution_count": null,
   "metadata": {},
   "outputs": [],
   "source": [
    "# Normalised Fourier transform for an NFW profile\n",
    "def win_NFW(k:np.ndarray, rv:np.ndarray, c:np.ndarray) -> np.ndarray:\n",
    "    from scipy.special import sici\n",
    "    rs = rv/c\n",
    "    kv = np.outer(k, rv)\n",
    "    ks = np.outer(k, rs)\n",
    "    Sisv, Cisv = sici(ks+kv)\n",
    "    Sis, Cis = sici(ks)\n",
    "    f1 = np.cos(ks)*(Cisv-Cis)\n",
    "    f2 = np.sin(ks)*(Sisv-Sis)\n",
    "    f3 = np.sin(kv)/(ks+kv)\n",
    "    f4 = np.log(1.+c)-c/(1.+c)\n",
    "    Wk = (f1+f2-f3)/f4\n",
    "    return Wk\n",
    "\n",
    "# Halo model spectrum\n",
    "Pk_hm = []\n",
    "for iz, z in enumerate(zs):\n",
    "\n",
    "    # Initialize\n",
    "    hmod = halo.model(z, Omega_m, name='Tinker et al. (2010)', Dv=200., dc=1.686)\n",
    "\n",
    "    # Halo profiles\n",
    "    R = hmod.Lagrangian_radius(M)\n",
    "    rv = hmod.virial_radius(M)\n",
    "    c = 10.14*(M/2e12)**-0.081*(1.+z)**-1.01 # Duffy et al. (2008) concentration for M200 relaxed haloes\n",
    "    Uk = win_NFW(k, rv, c) # NFW profile Fourier transform\n",
    "    matter_profile = halo.profile.Fourier(k, M, Uk, amplitude=M, normalisation=hmod.rhom, mass_tracer=True)\n",
    "\n",
    "    # Power spectra\n",
    "    Pk_lin = Pk_lin_interp(z, k)\n",
    "    sigmaM = results.get_sigmaR(R, z_indices=[iz])[0]\n",
    "    _, _, Pk = hmod.power_spectrum(k, Pk_lin, M, sigmaM, {'m': matter_profile})\n",
    "    Pk_hm.append(Pk['m-m'])"
   ]
  },
  {
   "attachments": {},
   "cell_type": "markdown",
   "metadata": {},
   "source": [
    "Plot the results"
   ]
  },
  {
   "cell_type": "code",
   "execution_count": null,
   "metadata": {},
   "outputs": [],
   "source": [
    "# Initialize\n",
    "plt.subplots(2, 1)\n",
    "dr = 1.5\n",
    "\n",
    "# Power\n",
    "plt.subplot(2, 1, 1)\n",
    "plt.plot(np.nan, color='black', ls=':', label='Halo model')\n",
    "plt.plot(np.nan, color='black', label='HMcode: pyHMcode')\n",
    "plt.plot(np.nan, color='black', alpha=0.5, label='HMcode: CAMB')\n",
    "for iz, z in enumerate(zs):\n",
    "    plt.loglog(k, Pk_hm[iz], ls=':', color='C%d'%iz)\n",
    "    plt.loglog(k, Pk_HMcode[iz, :], color='C%d'%iz, label='z = %1.1f'%z)\n",
    "    plt.loglog(k, Pk_CAMB[iz, :], alpha=0.5, color='C%d'%iz)\n",
    "plt.xticks([])\n",
    "plt.ylabel('$P(k)$ $[(h^{-1}\\mathrm{Mpc})^3]$')\n",
    "plt.legend(ncol=2)\n",
    "\n",
    "# Ratio\n",
    "plt.subplot(2, 1, 2)\n",
    "plt.axhspan(-1., 1., color='black', alpha=0.1)\n",
    "plt.axhspan(-0.1, 0.1, color='black', alpha=0.1)\n",
    "plt.axhline(0., color='black')\n",
    "for iz, _ in enumerate(zs):\n",
    "    plt.semilogx(k, 100.*(-1.+Pk_hm[iz]/Pk_CAMB[iz, :]), ls=':', color='C%d'%iz)\n",
    "    plt.semilogx(k, 100.*(-1.+Pk_HMcode[iz, :]/Pk_CAMB[iz, :]), color='C%d'%iz)\n",
    "plt.xlabel('$k$ $[h\\mathrm{Mpc}^{-1}]$')\n",
    "plt.ylabel('$P(k)/P_\\mathrm{CAMB}(k)-1$ [%]')\n",
    "plt.ylim((-dr, dr))\n",
    "\n",
    "# Finalize\n",
    "plt.tight_layout()\n",
    "plt.show()"
   ]
  }
 ],
 "metadata": {
  "kernelspec": {
   "display_name": "pyhalomodel-9x4PpIM0-py3.10",
   "language": "python",
   "name": "python3"
  },
  "language_info": {
   "codemirror_mode": {
    "name": "ipython",
    "version": 3
   },
   "file_extension": ".py",
   "mimetype": "text/x-python",
   "name": "python",
   "nbconvert_exporter": "python",
   "pygments_lexer": "ipython3",
   "version": "3.10.9"
  },
  "orig_nbformat": 4,
  "vscode": {
   "interpreter": {
    "hash": "2ba9d06372f471ba0c67d5ca201ae409f948f5898d6a308c2de7ac25e888f9d0"
   }
  }
 },
 "nbformat": 4,
 "nbformat_minor": 2
}
