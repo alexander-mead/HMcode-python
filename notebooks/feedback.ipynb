{
 "cells": [
  {
   "attachments": {},
   "cell_type": "markdown",
   "metadata": {},
   "source": [
    "## HMcode demo with baryonic feedback\n",
    "\n",
    "Here we calculate the suppression of the matter-matter power spectrum due to baryonic-feedback effects, using the baryon model from `HMCode2020`."
   ]
  },
  {
   "attachments": {},
   "cell_type": "markdown",
   "metadata": {},
   "source": [
    "First, import the necessary libraries"
   ]
  },
  {
   "cell_type": "code",
   "execution_count": null,
   "metadata": {},
   "outputs": [],
   "source": [
    "# Third-party imports\n",
    "import numpy as np\n",
    "import matplotlib.pyplot as plt\n",
    "import camb\n",
    "import hmcode"
   ]
  },
  {
   "attachments": {},
   "cell_type": "markdown",
   "metadata": {},
   "source": [
    "Set some parameters"
   ]
  },
  {
   "cell_type": "code",
   "execution_count": null,
   "metadata": {},
   "outputs": [],
   "source": [
    "# Cosmology\n",
    "Omega_c = 0.25\n",
    "Omega_b = 0.05\n",
    "Omega_k = 0.0\n",
    "h = 0.7\n",
    "ns = 0.96\n",
    "sigma_8 = 0.8\n",
    "w0 = -1.\n",
    "wa = 0.\n",
    "m_nu = 0.\n",
    "norm_sigma8 = True\n",
    "As = 2e-9\n",
    "\n",
    "# AGN-feedback temperature [K]\n",
    "T_AGNs = np.power(10, np.array([7.6, 7.8, 8.0, 8.3]))\n",
    "\n",
    "# CAMB\n",
    "kmax_CAMB = 200.\n",
    "\n",
    "# Wavenumbers [h/Mpc]\n",
    "kmin, kmax = 1e-3, 3e1\n",
    "nk = 128\n",
    "k = np.logspace(np.log10(kmin), np.log10(kmax), nk)\n",
    "\n",
    "# Redshifts\n",
    "zs = [1., 0.5, 0.25, 0.]\n",
    "zs = np.array(zs)\n",
    "\n",
    "# Halo masses [Msun/h] (for halo model only)\n",
    "Mmin, Mmax = 1e0, 1e18\n",
    "nM = 256\n",
    "M = np.logspace(np.log10(Mmin), np.log10(Mmax), nM)\n"
   ]
  },
  {
   "attachments": {},
   "cell_type": "markdown",
   "metadata": {},
   "source": [
    "Run `CAMB` to get the linear spectrum and $\\sigma(R)$"
   ]
  },
  {
   "cell_type": "code",
   "execution_count": null,
   "metadata": {},
   "outputs": [],
   "source": [
    "# Sets cosmological parameters in camb to calculate the linear power spectrum\n",
    "pars = camb.CAMBparams(WantCls=False)\n",
    "wb, wc = Omega_b*h**2, Omega_c*h**2\n",
    "\n",
    "# This function sets standard and helium set using BBN consistency\n",
    "pars.set_cosmology(ombh2=wb, omch2=wc, H0=100.*h, mnu=m_nu, omk=Omega_k)\n",
    "pars.set_dark_energy(w=w0, wa=wa, dark_energy_model='ppf')\n",
    "pars.InitPower.set_params(As=As, ns=ns, r=0.)\n",
    "pars.set_matter_power(redshifts=zs, kmax=kmax_CAMB) # Setup the linear matter power spectrum\n",
    "Omega_m = pars.omegam # Extract the matter density\n",
    "\n",
    "# Scale 'As' to be correct for the desired 'sigma_8' value if necessary\n",
    "if norm_sigma8:\n",
    "    results = camb.get_results(pars)\n",
    "    sigma_8_init = results.get_sigma8_0()\n",
    "    print('Running CAMB')\n",
    "    print('Initial sigma_8:', sigma_8_init)\n",
    "    print('Desired sigma_8:', sigma_8)\n",
    "    scaling = (sigma_8/sigma_8_init)**2\n",
    "    As *= scaling\n",
    "    pars.InitPower.set_params(As=As, ns=ns, r=0.)\n",
    "\n",
    "# Run\n",
    "results = camb.get_results(pars)\n",
    "Pk_lin_interp = results.get_matter_power_interpolator(nonlinear=False).P\n",
    "Pk_nonlin_interp = results.get_matter_power_interpolator(nonlinear=True).P\n",
    "sigma_8 = results.get_sigma8_0()\n",
    "print('Final sigma_8:', sigma_8)\n",
    "\n",
    "# Arrays for CAMB non-linear spectrum\n",
    "Pk_CAMB = np.zeros((len(zs), len(k)))\n",
    "for iz, z in enumerate(zs):\n",
    "    Pk_CAMB[iz, :] = Pk_nonlin_interp(z, k)"
   ]
  },
  {
   "attachments": {},
   "cell_type": "markdown",
   "metadata": {},
   "source": [
    "Get the suppression from `HMcode`, note that it takes the results data structure from `CAMB` as an argument"
   ]
  },
  {
   "cell_type": "code",
   "execution_count": null,
   "metadata": {},
   "outputs": [],
   "source": [
    "Rk_feedback = []\n",
    "for T_AGN in T_AGNs:\n",
    "    Pk_feedback = hmcode.power(k, zs, results, T_AGN=T_AGN, verbose=False)\n",
    "    Pk_gravity = hmcode.power(k, zs, results, T_AGN=None)\n",
    "    Rk = Pk_feedback/Pk_gravity\n",
    "    Rk_feedback.append(Rk)"
   ]
  },
  {
   "attachments": {},
   "cell_type": "markdown",
   "metadata": {},
   "source": [
    "Finally we recreate Figure 5 from [Mead et al. (2021)](https://arxiv.org/abs/2009.01858)"
   ]
  },
  {
   "cell_type": "code",
   "execution_count": null,
   "metadata": {},
   "outputs": [],
   "source": [
    "fig, axs = plt.subplots(ncols=2, nrows=2, figsize=(15,7))\n",
    "\n",
    "colors=['xkcd:blue', 'xkcd:grey',  'xkcd:red', 'xkcd:dark red']\n",
    "\n",
    "for j, ax in enumerate(axs.flatten()):\n",
    "    ax.set_xscale('log')\n",
    "    ax.set_xlabel(r'$k [h/\\mathrm{Mpc}]$')\n",
    "    ax.set_ylabel(r'$P(k)/P_\\mathrm{no-feedback}(k)$')\n",
    "    ax.set_ylim((0.7, 1.07))\n",
    "    ax.set_xlim(0.01, 30)\n",
    "    for i, Rk in enumerate(Rk_feedback):\n",
    "        label=rf'$\\log_{{10}}(T_\\mathrm{{AGN}}/\\mathrm{{K}}) = {np.log10(T_AGNs[i])}$' if j == 0 else None\n",
    "        ax.plot(k, Rk[3-j], ls='-', label=label, color=colors[i])\n",
    "    ax.text(0.015, 1.025, r'$z = {:.2f}$'.format(zs[3-j]))\n",
    "    ax.plot(k, [1]*len(k), color='k')\n",
    "    if j==0: ax.legend()\n"
   ]
  }
 ],
 "metadata": {
  "kernelspec": {
   "display_name": "hmcode-S0Z6NeuA-py3.10",
   "language": "python",
   "name": "python3"
  },
  "language_info": {
   "codemirror_mode": {
    "name": "ipython",
    "version": 3
   },
   "file_extension": ".py",
   "mimetype": "text/x-python",
   "name": "python",
   "nbconvert_exporter": "python",
   "pygments_lexer": "ipython3",
   "version": "3.11.3"
  },
  "orig_nbformat": 4,
  "vscode": {
   "interpreter": {
    "hash": "e82eed08d8d58f92fc7a23e50eeb23ca4d9777479ef0aea969fd18c18280722f"
   }
  }
 },
 "nbformat": 4,
 "nbformat_minor": 2
}
