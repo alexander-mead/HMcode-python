{
 "cells": [
  {
   "cell_type": "code",
   "execution_count": null,
   "metadata": {},
   "outputs": [],
   "source": [
    "# Third-party imports\n",
    "import numpy as np\n",
    "import camb\n",
    "import hmcode\n",
    "\n",
    "# Ranges\n",
    "k = np.logspace(-3, 1, 100) # Wavenumbers [h/Mpc]\n",
    "zs = [3., 2., 1., 0.5, 0.]  # Redshifts\n",
    "\n",
    "# Run CAMB\n",
    "parameters = camb.CAMBparams(WantCls=False)\n",
    "parameters.set_cosmology(H0=70.)\n",
    "parameters.set_matter_power(redshifts=zs, kmax=100.) # kmax should be much larger than the wavenumber of interest\n",
    "results = camb.get_results(parameters)\n",
    "\n",
    "# HMcode\n",
    "Pk = hmcode.power(k, zs, results)"
   ]
  },
  {
   "cell_type": "code",
   "execution_count": null,
   "metadata": {},
   "outputs": [],
   "source": [
    "import matplotlib.pyplot as plt\n",
    "\n",
    "# Plot\n",
    "for iz, z in enumerate(zs):\n",
    "    plt.loglog(k, Pk[iz, :], label='z = {:1.1f}'.format(z))\n",
    "plt.xlabel('$k$ $[h \\mathrm{Mpc}^{-1}]$')\n",
    "plt.ylabel('$P(k)$ $[(h^{-1}\\mathrm{Mpc})^3]$')\n",
    "plt.legend()\n",
    "plt.show()"
   ]
  }
 ],
 "metadata": {
  "kernelspec": {
   "display_name": "hmcode-S0Z6NeuA-py3.10",
   "language": "python",
   "name": "python3"
  },
  "language_info": {
   "codemirror_mode": {
    "name": "ipython",
    "version": 3
   },
   "file_extension": ".py",
   "mimetype": "text/x-python",
   "name": "python",
   "nbconvert_exporter": "python",
   "pygments_lexer": "ipython3",
   "version": "3.11.3"
  },
  "orig_nbformat": 4,
  "vscode": {
   "interpreter": {
    "hash": "e82eed08d8d58f92fc7a23e50eeb23ca4d9777479ef0aea969fd18c18280722f"
   }
  }
 },
 "nbformat": 4,
 "nbformat_minor": 2
}
